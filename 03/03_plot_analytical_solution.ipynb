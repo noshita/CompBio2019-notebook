{
 "cells": [
  {
   "cell_type": "markdown",
   "metadata": {},
   "source": [
    "# 解析解のプロット"
   ]
  },
  {
   "cell_type": "code",
   "execution_count": 1,
   "metadata": {},
   "outputs": [],
   "source": [
    "%matplotlib inline"
   ]
  },
  {
   "cell_type": "code",
   "execution_count": 2,
   "metadata": {},
   "outputs": [],
   "source": [
    "import math\n",
    "import matplotlib.pyplot as plt"
   ]
  },
  {
   "cell_type": "markdown",
   "metadata": {},
   "source": [
    "## 指数増殖\n",
    "指数増殖\n",
    "$$\\frac{dx}{dt} = ax$$\n",
    "の解析解は\n",
    "$$x(t) = x_0 e^{at}$$\n",
    "であった．\n",
    "マルサス係数（$a$）や初期値（$x_0$）をいろいろ変えてプロットしてみよう．"
   ]
  },
  {
   "cell_type": "code",
   "execution_count": 9,
   "metadata": {},
   "outputs": [],
   "source": [
    "a = 0.2\n",
    "x0 = 10\n",
    "\n",
    "dt = 1\n",
    "tList = []\n",
    "xList = []\n",
    "for i in range(100):\n",
    "    t = dt*i\n",
    "    x = x0*math.exp(a*t)\n",
    "    tList.append(t)\n",
    "    xList.append(x)"
   ]
  },
  {
   "cell_type": "code",
   "execution_count": 16,
   "metadata": {},
   "outputs": [
    {
     "data": {
      "text/plain": [
       "[<matplotlib.lines.Line2D at 0x1115d2da0>]"
      ]
     },
     "execution_count": 16,
     "metadata": {},
     "output_type": "execute_result"
    },
    {
     "data": {
      "image/png": "[encoded data removed]",
      "text/plain": [
       "<Figure size 432x288 with 1 Axes>"
      ]
     },
     "metadata": {
      "needs_background": "light"
     },
     "output_type": "display_data"
    }
   ],
   "source": [
    "plt.plot(tList, xList, 'ro:', markersize = 3)"
   ]
  },
  {
   "cell_type": "markdown",
   "metadata": {},
   "source": [
    "## ロジスティック成長\n",
    "ロジスティック成長\n",
    "$$\\frac{dx}{dt}=r \\left(1-\\frac{x}{K}\\right)x$$\n",
    "の解析解は\n",
    "$$x(t) = \\frac{K}{1+\\left(\\frac{K}{x_0}-1\\right)e^{-rt}}$$\n",
    "であった．\n",
    "上の指数増殖を参考にプログラムを作成し，\n",
    "内的増加率（$r$），環境収容力（$K$）や初期値（$x_0$）をいろいろ変えてプロットしてみよう．"
   ]
  },
  {
   "cell_type": "code",
   "execution_count": 17,
   "metadata": {},
   "outputs": [],
   "source": [
    "r = 0.2\n",
    "K=100\n",
    "x0 = 10\n",
    "\n",
    "dt = 1\n",
    "tList = []\n",
    "xList = []\n",
    "for i in range(100):\n",
    "    t = dt*i\n",
    "    x = K/(1+(K/x0-1)*math.exp(-r*t))\n",
    "    tList.append(t)\n",
    "    xList.append(x)"
   ]
  },
  {
   "cell_type": "code",
   "execution_count": 18,
   "metadata": {},
   "outputs": [
    {
     "data": {
      "text/plain": [
       "[<matplotlib.lines.Line2D at 0x111ab4b00>]"
      ]
     },
     "execution_count": 18,
     "metadata": {},
     "output_type": "execute_result"
    },
    {
     "data": {
      "image/png": "[encoded data removed]",
      "text/plain": [
       "<Figure size 432x288 with 1 Axes>"
      ]
     },
     "metadata": {
      "needs_background": "light"
     },
     "output_type": "display_data"
    }
   ],
   "source": [
    "plt.plot(tList, xList, 'ro:', markersize = 3)"
   ]
  },
  {
   "cell_type": "code",
   "execution_count": null,
   "metadata": {},
   "outputs": [],
   "source": []
  }
 ],
 "metadata": {
  "kernelspec": {
   "display_name": "Python 3",
   "language": "python",
   "name": "python3"
  },
  "language_info": {
   "codemirror_mode": {
    "name": "ipython",
    "version": 3
   },
   "file_extension": ".py",
   "mimetype": "text/x-python",
   "name": "python",
   "nbconvert_exporter": "python",
   "pygments_lexer": "ipython3",
   "version": "3.6.0"
  },
  "toc": {
   "base_numbering": 1,
   "nav_menu": {},
   "number_sections": true,
   "sideBar": true,
   "skip_h1_title": false,
   "title_cell": "Table of Contents",
   "title_sidebar": "Contents",
   "toc_cell": false,
   "toc_position": {},
   "toc_section_display": true,
   "toc_window_display": false
  }
 },
 "nbformat": 4,
 "nbformat_minor": 2
}
