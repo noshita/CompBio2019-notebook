{
 "cells": [
  {
   "cell_type": "markdown",
   "metadata": {},
   "source": [
    "# 数値解のプロット"
   ]
  },
  {
   "cell_type": "code",
   "execution_count": 3,
   "metadata": {},
   "outputs": [],
   "source": [
    "%matplotlib inline"
   ]
  },
  {
   "cell_type": "code",
   "execution_count": 4,
   "metadata": {},
   "outputs": [],
   "source": [
    "import math\n",
    "import matplotlib.pyplot as plt"
   ]
  },
  {
   "cell_type": "markdown",
   "metadata": {},
   "source": [
    "## 指数増殖\n",
    "指数増殖\n",
    "$$\\frac{dx}{dt} = ax$$\n",
    "をオイラー法で離散化し，数値的に解いてみよう．\n",
    "\n",
    "マルサス係数（$a$）や初期値（$x_0$）をいろいろ変えてプロットしてみよう．"
   ]
  },
  {
   "cell_type": "code",
   "execution_count": 5,
   "metadata": {},
   "outputs": [],
   "source": [
    "a = 0.2\n",
    "x0 = 10\n",
    "\n",
    "dt = 0.1\n",
    "\n",
    "t = 0\n",
    "x = x0\n",
    "xList = [x]\n",
    "tList = [t]\n",
    "for i in range(1000):\n",
    "    t = dt*(i+1)\n",
    "    xx = x + a*x*dt\n",
    "    x = xx\n",
    "    tList.append(t)\n",
    "    xList.append(x)"
   ]
  },
  {
   "cell_type": "code",
   "execution_count": 6,
   "metadata": {},
   "outputs": [
    {
     "data": {
      "text/plain": [
       "[<matplotlib.lines.Line2D at 0x10eabfeb8>]"
      ]
     },
     "execution_count": 6,
     "metadata": {},
     "output_type": "execute_result"
    },
    {
     "data": {
      "image/png": "[encoded data removed]",
      "text/plain": [
       "<Figure size 432x288 with 1 Axes>"
      ]
     },
     "metadata": {
      "needs_background": "light"
     },
     "output_type": "display_data"
    }
   ],
   "source": [
    "plt.plot(tList, xList)"
   ]
  },
  {
   "cell_type": "markdown",
   "metadata": {},
   "source": [
    "### 解析解と比較\n",
    "対象となる時間の長さを揃えるよう注意しよう．"
   ]
  },
  {
   "cell_type": "code",
   "execution_count": 9,
   "metadata": {},
   "outputs": [],
   "source": [
    "a = 0.2\n",
    "x0 = 10\n",
    "\n",
    "tEnd = 100\n",
    "\n",
    "#\n",
    "# 時間幅\n",
    "#\n",
    "# 解析解用\n",
    "dtA = 1\n",
    "iEndA = int(tEnd/dtA)+1\n",
    "\n",
    "# 数値解用\n",
    "# dtNを0.1~0.001の範囲で変えて，どの程度解析解と合うか検討してみる\n",
    "dtN = 0.2\n",
    "iEndN = int(tEnd/dtN)\n",
    "\n",
    "#\n",
    "# メイン\n",
    "#\n",
    "# 解析解\n",
    "tListA = []\n",
    "xListA = []\n",
    "for i in range(iEndA):\n",
    "    t = dtA*i\n",
    "    x = x0*math.exp(a*t)\n",
    "    tListA.append(t)\n",
    "    xListA.append(x)\n",
    "\n",
    "# 数値解\n",
    "t = 0\n",
    "x = x0\n",
    "xListN = [x]\n",
    "tListN = [t]\n",
    "for i in range(iEndN):\n",
    "    t = dtN*(i+1)\n",
    "    xx = x + a*x*dtN\n",
    "    x = xx\n",
    "    tListN.append(t)\n",
    "    xListN.append(x)"
   ]
  },
  {
   "cell_type": "code",
   "execution_count": 12,
   "metadata": {},
   "outputs": [
    {
     "data": {
      "text/plain": [
       "[<matplotlib.lines.Line2D at 0x10ed51fd0>]"
      ]
     },
     "execution_count": 12,
     "metadata": {},
     "output_type": "execute_result"
    },
    {
     "data": {
      "image/png": "[encoded data removed]",
      "text/plain": [
       "<Figure size 432x288 with 1 Axes>"
      ]
     },
     "metadata": {
      "needs_background": "light"
     },
     "output_type": "display_data"
    }
   ],
   "source": [
    "plt.plot(tListN, xListN)\n",
    "plt.plot(tListA, xListA, \"r.:\", markersize=2)"
   ]
  },
  {
   "cell_type": "markdown",
   "metadata": {},
   "source": [
    "## ロジスティック成長\n",
    "ロジスティック成長\n",
    "$$\\frac{dx}{dt}=r \\left(1-\\frac{x}{K}\\right)x$$\n",
    "を上の指数増殖を参考にプログラムを作成し，オイラー法で離散化して数値的に解いてみよう．\n",
    "\n",
    "内的増加率（$r$），環境収容力（$K$）や初期値（$x_0$）をいろいろ変えてプロットしてみよう．"
   ]
  },
  {
   "cell_type": "code",
   "execution_count": null,
   "metadata": {},
   "outputs": [],
   "source": []
  }
 ],
 "metadata": {
  "kernelspec": {
   "display_name": "Python 3",
   "language": "python",
   "name": "python3"
  },
  "language_info": {
   "codemirror_mode": {
    "name": "ipython",
    "version": 3
   },
   "file_extension": ".py",
   "mimetype": "text/x-python",
   "name": "python",
   "nbconvert_exporter": "python",
   "pygments_lexer": "ipython3",
   "version": "3.7.3"
  },
  "toc": {
   "base_numbering": 1,
   "nav_menu": {},
   "number_sections": true,
   "sideBar": true,
   "skip_h1_title": false,
   "title_cell": "Table of Contents",
   "title_sidebar": "Contents",
   "toc_cell": false,
   "toc_position": {},
   "toc_section_display": true,
   "toc_window_display": false
  }
 },
 "nbformat": 4,
 "nbformat_minor": 2
}
