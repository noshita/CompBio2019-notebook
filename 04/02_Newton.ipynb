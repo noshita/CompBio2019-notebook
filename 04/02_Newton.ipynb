{
 "cells": [
  {
   "cell_type": "markdown",
   "metadata": {},
   "source": [
    "# ニュートン法\n",
    "方程式 $f(x) = 0$ を数値的に解くためのアルゴリズム．\n",
    "\n",
    "今回はニュートン法を用いてロトカ-ボルテラモデルの平衡点を数値的に求めることを目標にする．"
   ]
  },
  {
   "cell_type": "markdown",
   "metadata": {},
   "source": [
    "解を求めたい方程式を$f(x) = 0$とすれば，その解は$f(x)$と$x$軸の交点である．\n",
    "これを「数値的」に求めたい．\n",
    "\n",
    "ニュートン法では，\n",
    "1. 解の近似値を$x_i$とし，適当なその初期値$x_0$を決める\n",
    "2. 解の近似値$x_i$での接線を求める\n",
    "3. この接線と$x$軸との交点を求める\n",
    "4. 交点の$x$座標を新たに近似値$x_{i+1}$として採用する\n",
    "    * 以後，近似値が収束するまで2.〜4.を繰り返す． \n",
    "\n",
    "というループを通して近似解を得る．"
   ]
  },
  {
   "cell_type": "markdown",
   "metadata": {},
   "source": [
    "## 1次元の場合\n",
    "$f(x)$の$x=x_i$での接線を$g(x)$とすれば，\n",
    "$$\n",
    "g(x) = f(x_i) + f'(x_i)(x-x_i)\n",
    "$$\n",
    "とかける．この接線と$x$軸の交点（$g(x) = 0$を満たす$x$）をより良い近似解として採用するならば，\n",
    "$$\n",
    "f(x_i) + f'(x_i)(x_{i+1}-x_i) = 0\n",
    "$$\n",
    "となる．\n",
    "\n",
    "よって，$f(x) = 0$の近似解を求めるには，上の式を整理して，\n",
    "$$\n",
    "x_{i+1} = x_i -\\frac{f(x_i)}{f'(x_i)}\n",
    "$$\n",
    "を適当な初期値$x_0$からははじめて，$x_1, x_2, \\cdots, x_n$と次々と求める．"
   ]
  },
  {
   "cell_type": "markdown",
   "metadata": {},
   "source": [
    "## ロジスティック成長モデル 1次元の場合の例\n",
    "ロジスティック成長モデル\n",
    "$$\n",
    "\\frac{dx}{dt} = r\\left(1-\\frac{x}{K}\\right)x\n",
    "$$\n",
    "の平衡点を数値的に求めてみよう．\n",
    "\n",
    "平衡点は解析的に $x^*_1 = 0, x^*_2 = K$であることはわかっている．これらを数値的に求める．\n",
    "\n",
    "$$\n",
    "f'(x) = r\\left(1-\\frac{2}{K}x\\right)\n",
    "$$\n",
    "なので，\n",
    "$$\n",
    "x_{i+1} = \\frac{x_i^2}{2x_i -K}\n",
    "$$\n",
    "である．これを具体的にプログラミングしてみよう．"
   ]
  },
  {
   "cell_type": "code",
   "execution_count": 7,
   "metadata": {},
   "outputs": [
    {
     "name": "stdout",
     "output_type": "stream",
     "text": [
      "解析解:  0 , 1000\n",
      "近似解:  1000.0\n"
     ]
    }
   ],
   "source": [
    "# 初期値\n",
    "x = 600\n",
    "\n",
    "# パラメータ設定\n",
    "K = 1000\n",
    "\n",
    "for i in range(1000):\n",
    "    xx = x*x/(2*x-K)\n",
    "    x = xx\n",
    "\n",
    "print(\"解析解: \", 0, \",\", K)\n",
    "print(\"近似解: \", x)"
   ]
  },
  {
   "cell_type": "markdown",
   "metadata": {},
   "source": [
    "初期値に応じて，$x^*_1 = 0, x^*_2 = K$のいずれかが数値的に求められる．"
   ]
  },
  {
   "cell_type": "markdown",
   "metadata": {},
   "source": [
    "## $n$次元の場合\n",
    "$n$次元の場合に拡張しよう．\n",
    "$$\n",
    "\\mathbf{f}(\\mathbf{x}) = \\mathbf{0}\n",
    "$$\n",
    "という連立方程式を解くことを考える．ただし，\n",
    "$$\n",
    "\\mathbf{x} = \\begin{pmatrix}\n",
    "x_1\\\\\n",
    "x_2\\\\\n",
    "\\vdots\\\\\n",
    "x_n\n",
    "\\end{pmatrix}, \n",
    "\\mathbf{f}(\\mathbf{x}) = \\begin{pmatrix}\n",
    "f_1(x_1, x_2, \\cdots, x_n)\\\\\n",
    "f_2(x_1, x_2, \\cdots, x_n)\\\\\n",
    "\\vdots\\\\\n",
    "f_n(x_1, x_2, \\cdots, x_n)\\\\\n",
    "\\end{pmatrix}\n",
    "$$\n",
    "\n",
    "とする．"
   ]
  },
  {
   "cell_type": "markdown",
   "metadata": {},
   "source": [
    "$\\mathbf{f}(\\mathbf{x})$の$\\mathbf{x} = \\mathbf{x}_i$での一次近似（高次元での\"接線\"）を考えると\n",
    "$$\n",
    "\\mathbf{g}(\\mathbf{x}) = \\mathbf{f}(\\mathbf{x}_i) + \\left.\\frac{\\partial \\mathbf{f}}{\\partial \\mathbf{x}}\\right|_{\\mathbf{x} = \\mathbf{x}_i}(\\mathbf{x} - \\mathbf{x}_i)\n",
    "$$\n",
    "なる．$\\frac{\\partial \\mathbf{f}}{\\partial \\mathbf{x}}$はヤコビ行列．\n",
    "\n",
    "$\\mathbf{J}_{\\mathbf{x}_i} = \\left.\\frac{\\partial \\mathbf{f}}{\\partial \\mathbf{x}}\\right|_{\\mathbf{x} = \\mathbf{x}_i}$として，$\\mathbf{g}(\\mathbf{x})= \\mathbf{0}$となる$\\mathbf{x}$をより良い近似解$\\mathbf{x}_{i+1}$として採用すれば，\n",
    "\n",
    "$$\n",
    "\\mathbf{f}(\\mathbf{x}_i) + \\mathbf{J}_{\\mathbf{x}_i}(\\mathbf{x}_{i+1} - \\mathbf{x}_i) = 0\\\\\n",
    "\\mathbf{J}_{\\mathbf{x}_i}(\\mathbf{x}_{i+1} - \\mathbf{x}_i) = - \\mathbf{f}(\\mathbf{x}_i)\\\\\n",
    "\\mathbf{x}_{i+1} - \\mathbf{x}_i = - \\mathbf{J}^{-1}_{\\mathbf{x}_i}\\mathbf{f}(\\mathbf{x}_i)\n",
    "$$\n",
    "となり，\n",
    "$$\n",
    "\\mathbf{x}_{i+1} = \\mathbf{x}_i  - \\mathbf{J}^{-1}_{\\mathbf{x}_i}\\mathbf{f}(\\mathbf{x}_i)\n",
    "$$\n",
    "を得る．１次元の場合と比べて自然な拡張になっていることがわかる．"
   ]
  },
  {
   "cell_type": "markdown",
   "metadata": {},
   "source": [
    "## 被食-捕食系 2次元の場合の例\n",
    "被食-捕食系の微分方程式系の平衡点をニュートン法を用いて数値的に求めよう．\n",
    "$$\n",
    "\\begin{cases}\n",
    "\\frac{dx}{dt} = ax -bxy\\\\\n",
    "\\frac{dy}{dt} = cxy -dy\n",
    "\\end{cases}\n",
    "$$\n",
    "\n",
    "平衡点を求めるためには，上の右辺をそれぞれ$f_1(x,y), f_2(x,y)$とすれば，\n",
    "$$\n",
    "f_1(x,y) = ax -bxy = 0\\\\\n",
    "f_2(x,y) = cxy -dy = 0\n",
    "$$\n",
    "という連立方程式を解けば良い．\n",
    "解析的には$(x_1^*, y_1^*) = (0,0), (x_2^*, y_2^*) = \\left(\\frac{d}{c}, \\frac{a}{b}\\right)$．"
   ]
  },
  {
   "cell_type": "markdown",
   "metadata": {},
   "source": [
    "まず，$\\mathbf{f}(x,y)$のヤコビ行列を求めよう．\n",
    "求めるヤコビ行列を$\\mathbf{J}$とすれば\n",
    "$$\n",
    "\\mathbf{J}(x,y) = \\begin{pmatrix}\n",
    "\\frac{\\partial f_1}{dx} & \\frac{\\partial f_1}{dy}\\\\\n",
    "\\frac{\\partial f_2}{dx} & \\frac{\\partial f_2}{dy}\n",
    "\\end{pmatrix}\n",
    "= \\begin{pmatrix}\n",
    "a-by & -bx\\\\\n",
    "cy & cx-d\n",
    "\\end{pmatrix}\n",
    "$$\n",
    "\n",
    "よって，ヤコビアンは\n",
    "$$\n",
    "|\\mathbf{J}(x,y)| = acx + bdy - ad\n",
    "$$\n",
    "となり，0でない場合を考えれば，逆行列はクラメールの公式を用い\n",
    "$$\n",
    "\\mathbf{J}^{-1}(x,y) = \\frac{1}{acx+bdy-ad}\n",
    "\\begin{pmatrix}\n",
    "cx-d & bx\\\\\n",
    "-cy & a-by\n",
    "\\end{pmatrix}\n",
    "$$\n",
    "と求まる．"
   ]
  },
  {
   "cell_type": "markdown",
   "metadata": {},
   "source": [
    "これを整理すると\n",
    "$$\n",
    "\\begin{align}\n",
    "\\mathbf{x}_{i+1} &= \\mathbf{x}_i  - \\mathbf{J}^{-1}_{\\mathbf{x}_i}\\mathbf{f}(\\mathbf{x}_i)\\\\\n",
    "\\begin{pmatrix}\n",
    "x_{i+1}\\\\\n",
    "y_{i+1}\n",
    "\\end{pmatrix} &= \\begin{pmatrix}\n",
    "x_{i}\\\\\n",
    "y_{i}\n",
    "\\end{pmatrix}\n",
    "-\\frac{1}{acx_i+bdy_i-ad}\n",
    "\\begin{pmatrix}\n",
    "cx_i-d & bx_i\\\\\n",
    "-cy_i & a-by_i\n",
    "\\end{pmatrix}\n",
    "\\begin{pmatrix}\n",
    "ax_i-bx_i y_i\\\\\n",
    "cx_i y_i -d y_i\n",
    "\\end{pmatrix}\\\\\n",
    "&=\\frac{x_i y_i}{acx_i + bdy_i -ad}\n",
    "\\begin{pmatrix}\n",
    "bd\\\\\n",
    "ac\n",
    "\\end{pmatrix}\n",
    "\\end{align}\n",
    "$$\n",
    "\n",
    "これを具体的にプログラミングしてみる．"
   ]
  },
  {
   "cell_type": "code",
   "execution_count": 10,
   "metadata": {},
   "outputs": [
    {
     "name": "stdout",
     "output_type": "stream",
     "text": [
      "解析解:  (0, 0) , (2.0, 0.6666666666666666)\n",
      "近似解:  (-0.0, -0.0)\n"
     ]
    }
   ],
   "source": [
    "# 初期値\n",
    "x = 0.1\n",
    "y = 5.5\n",
    "\n",
    "# パラメータ設定\n",
    "a = 2\n",
    "b = 3\n",
    "c = 1\n",
    "d = 2\n",
    "\n",
    "for i in range(1000):\n",
    "    xx = b*d*x*y/(a*c*x+b*d*y-a*d)\n",
    "    yy = a*c*x*y/(a*c*x+b*d*y-a*d)\n",
    "    x = xx\n",
    "    y = yy\n",
    "\n",
    "print(\"解析解: \", (0,0), \",\", (d/c, a/b))\n",
    "print(\"近似解: \", (x, y))"
   ]
  },
  {
   "cell_type": "markdown",
   "metadata": {},
   "source": [
    "初期値に応じて，$(x^*_1, y^*_1) = (0, 0), (x^*_2, y^*_2) = \\left(\\frac{d}{c}, \\frac{a}{b}\\right)$のいずれかが数値的に求められる．"
   ]
  },
  {
   "cell_type": "code",
   "execution_count": null,
   "metadata": {},
   "outputs": [],
   "source": []
  }
 ],
 "metadata": {
  "kernelspec": {
   "display_name": "Python 3",
   "language": "python",
   "name": "python3"
  },
  "language_info": {
   "codemirror_mode": {
    "name": "ipython",
    "version": 3
   },
   "file_extension": ".py",
   "mimetype": "text/x-python",
   "name": "python",
   "nbconvert_exporter": "python",
   "pygments_lexer": "ipython3",
   "version": "3.7.3"
  },
  "toc": {
   "base_numbering": 1,
   "nav_menu": {},
   "number_sections": true,
   "sideBar": true,
   "skip_h1_title": false,
   "title_cell": "Table of Contents",
   "title_sidebar": "Contents",
   "toc_cell": false,
   "toc_position": {},
   "toc_section_display": true,
   "toc_window_display": false
  }
 },
 "nbformat": 4,
 "nbformat_minor": 2
}
