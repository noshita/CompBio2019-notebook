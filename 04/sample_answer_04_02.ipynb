{
 "cells": [
  {
   "cell_type": "markdown",
   "metadata": {},
   "source": [
    "# SymPyを使った数式処理\n",
    "Pythonにおいて代数的な操作・数式処理をおこなうためのパッケージ[SymPy](https://www.sympy.org)の簡単な使い方紹介する．\n",
    "\n",
    "後半では題材としてロトカ-ボルテラ モデルを扱い，\n",
    "* 平衡点の導出\n",
    "* 局所安定性の解析\n",
    "\n",
    "を例に連立方程式を解析的に解いたり，数値演算と組み合わせて固有値を計算する方法を紹介する．"
   ]
  },
  {
   "cell_type": "markdown",
   "metadata": {},
   "source": [
    "## SymPyの基本的な使い方"
   ]
  },
  {
   "cell_type": "code",
   "execution_count": 1,
   "metadata": {},
   "outputs": [],
   "source": [
    "import sympy"
   ]
  },
  {
   "cell_type": "markdown",
   "metadata": {},
   "source": [
    "### `Symbol`：変数や数式\n",
    "変数や数式は`Symbol`クラスのオブジェクトとして表現される．\n",
    "\n",
    "`Symbol`クラスのオブジェクトは`sympy.Symbol`に引数となる文字列を渡して作成できる．このとき引数として渡した文字列が変数の表記になる．"
   ]
  },
  {
   "cell_type": "code",
   "execution_count": 2,
   "metadata": {},
   "outputs": [
    {
     "name": "stdout",
     "output_type": "stream",
     "text": [
      "x <class 'sympy.core.symbol.Symbol'>\n",
      "y <class 'sympy.core.symbol.Symbol'>\n"
     ]
    }
   ],
   "source": [
    "x = sympy.Symbol(\"x\")\n",
    "y = sympy.Symbol(\"y\")\n",
    "\n",
    "print(x,type(x))\n",
    "print(y,type(y))"
   ]
  },
  {
   "cell_type": "markdown",
   "metadata": {},
   "source": [
    "これらは記号のまま計算できる．また，他の変数に代入することも可能．"
   ]
  },
  {
   "cell_type": "code",
   "execution_count": 3,
   "metadata": {},
   "outputs": [
    {
     "data": {
      "text/latex": [
       "$\\displaystyle x^{2} + x \\left(y + 2\\right) + x$"
      ],
      "text/plain": [
       "x**2 + x*(y + 2) + x"
      ]
     },
     "execution_count": 3,
     "metadata": {},
     "output_type": "execute_result"
    }
   ],
   "source": [
    "x**2 + x + x* (y+2)"
   ]
  },
  {
   "cell_type": "code",
   "execution_count": 4,
   "metadata": {},
   "outputs": [],
   "source": [
    "z = x**2 + x + x* (y+2)"
   ]
  },
  {
   "cell_type": "code",
   "execution_count": 5,
   "metadata": {},
   "outputs": [
    {
     "data": {
      "text/latex": [
       "$\\displaystyle x^{2} + x \\left(y + 2\\right) + x$"
      ],
      "text/plain": [
       "x**2 + x*(y + 2) + x"
      ]
     },
     "execution_count": 5,
     "metadata": {},
     "output_type": "execute_result"
    }
   ],
   "source": [
    "z"
   ]
  },
  {
   "cell_type": "markdown",
   "metadata": {},
   "source": [
    "複数の記号をまとめて定義することもできる．\n",
    "その場合は，`symbols()`関数を利用する．"
   ]
  },
  {
   "cell_type": "code",
   "execution_count": 6,
   "metadata": {},
   "outputs": [
    {
     "name": "stdout",
     "output_type": "stream",
     "text": [
      "x <class 'sympy.core.symbol.Symbol'>\n",
      "y <class 'sympy.core.symbol.Symbol'>\n"
     ]
    }
   ],
   "source": [
    "x, y = sympy.symbols(\"x, y\")\n",
    "\n",
    "print(x,type(x))\n",
    "print(y,type(y))"
   ]
  },
  {
   "cell_type": "markdown",
   "metadata": {},
   "source": [
    "### 式の操作\n",
    "作成した式を因数分解したり，展開したり，整理したりできる．"
   ]
  },
  {
   "cell_type": "markdown",
   "metadata": {},
   "source": [
    "#### 因数分解 \n",
    "因数分解には`factor()`関数を利用する．\n",
    "\n",
    "多項式\n",
    "$$2 x y^{2} - 28 x y + 98 x + 11 y^{2} - 154 y + 539\n",
    "$$\n",
    "を因数分解してみよう．"
   ]
  },
  {
   "cell_type": "code",
   "execution_count": 7,
   "metadata": {},
   "outputs": [],
   "source": [
    "x, y = sympy.symbols(\"x, y\")"
   ]
  },
  {
   "cell_type": "code",
   "execution_count": 8,
   "metadata": {},
   "outputs": [
    {
     "data": {
      "text/latex": [
       "$\\displaystyle \\left(2 x + 11\\right) \\left(y - 7\\right)^{2}$"
      ],
      "text/plain": [
       "(2*x + 11)*(y - 7)**2"
      ]
     },
     "execution_count": 8,
     "metadata": {},
     "output_type": "execute_result"
    }
   ],
   "source": [
    "sympy.factor(2*x*y**2 - 28*x*y + 98*x + 11*y**2 - 154*y + 539\n",
    ")"
   ]
  },
  {
   "cell_type": "code",
   "execution_count": 9,
   "metadata": {},
   "outputs": [
    {
     "name": "stdout",
     "output_type": "stream",
     "text": [
      "(2*x + 11)*(y - 7)**2\n"
     ]
    }
   ],
   "source": [
    "print(sympy.factor(2*x*y**2 - 28*x*y + 98*x + 11*y**2 - 154*y + 539\n",
    "))"
   ]
  },
  {
   "cell_type": "markdown",
   "metadata": {},
   "source": [
    "もっと複雑な多項式の因数分解もできるので試してみよう．"
   ]
  },
  {
   "cell_type": "markdown",
   "metadata": {},
   "source": [
    "#### 展開\n",
    "式の展開には`expand()`関数を利用する．\n",
    "\n",
    "まずは，先程の因数分解された結果を展開して元通りに展開されるか確認してみる．"
   ]
  },
  {
   "cell_type": "code",
   "execution_count": 10,
   "metadata": {},
   "outputs": [
    {
     "data": {
      "text/latex": [
       "$\\displaystyle 2 x y^{2} - 28 x y + 98 x + 11 y^{2} - 154 y + 539$"
      ],
      "text/plain": [
       "2*x*y**2 - 28*x*y + 98*x + 11*y**2 - 154*y + 539"
      ]
     },
     "execution_count": 10,
     "metadata": {},
     "output_type": "execute_result"
    }
   ],
   "source": [
    "sympy.expand((2*x + 11)*(y - 7)**2)"
   ]
  },
  {
   "cell_type": "markdown",
   "metadata": {},
   "source": [
    "より複雑な式も展開できる．\n",
    "例えば，\n",
    "\n",
    "$$\n",
    "(a x + 11)(y - b)^2 (z^c+2 z^2-5)\n",
    "$$\n",
    "\n",
    "のような式を展開してみる．"
   ]
  },
  {
   "cell_type": "code",
   "execution_count": 11,
   "metadata": {},
   "outputs": [],
   "source": [
    "z,a,b,c = sympy.symbols(\"z, a, b, c\")"
   ]
  },
  {
   "cell_type": "code",
   "execution_count": 12,
   "metadata": {},
   "outputs": [
    {
     "data": {
      "text/latex": [
       "$\\displaystyle 2 a b^{2} x z^{2} + a b^{2} x z^{c} - 5 a b^{2} x - 4 a b x y z^{2} - 2 a b x y z^{c} + 10 a b x y + 2 a x y^{2} z^{2} + a x y^{2} z^{c} - 5 a x y^{2} + 22 b^{2} z^{2} + 11 b^{2} z^{c} - 55 b^{2} - 44 b y z^{2} - 22 b y z^{c} + 110 b y + 22 y^{2} z^{2} + 11 y^{2} z^{c} - 55 y^{2}$"
      ],
      "text/plain": [
       "2*a*b**2*x*z**2 + a*b**2*x*z**c - 5*a*b**2*x - 4*a*b*x*y*z**2 - 2*a*b*x*y*z**c + 10*a*b*x*y + 2*a*x*y**2*z**2 + a*x*y**2*z**c - 5*a*x*y**2 + 22*b**2*z**2 + 11*b**2*z**c - 55*b**2 - 44*b*y*z**2 - 22*b*y*z**c + 110*b*y + 22*y**2*z**2 + 11*y**2*z**c - 55*y**2"
      ]
     },
     "execution_count": 12,
     "metadata": {},
     "output_type": "execute_result"
    }
   ],
   "source": [
    "sympy.expand((a*x + 11)*((y - b)**2)*(z**c+2*z**2-5))"
   ]
  },
  {
   "cell_type": "markdown",
   "metadata": {},
   "source": [
    "#### 式の整理\n",
    "式の整理に`simplify()`関数が利用できる．\n",
    "$$\n",
    "\\sin(\\theta)^2 + \\cos(\\theta)^2 = 1\n",
    "$$\n",
    "を確認してみよう．"
   ]
  },
  {
   "cell_type": "code",
   "execution_count": 13,
   "metadata": {},
   "outputs": [],
   "source": [
    "theta = sympy.Symbol(\"θ\")"
   ]
  },
  {
   "cell_type": "code",
   "execution_count": 14,
   "metadata": {},
   "outputs": [
    {
     "data": {
      "text/latex": [
       "$\\displaystyle 1$"
      ],
      "text/plain": [
       "1"
      ]
     },
     "execution_count": 14,
     "metadata": {},
     "output_type": "execute_result"
    }
   ],
   "source": [
    "sympy.simplify(sympy.sin(theta)**2 + sympy.cos(theta)**2)"
   ]
  },
  {
   "cell_type": "markdown",
   "metadata": {},
   "source": [
    "ある変数の定義域などの条件を付して式を簡略化するなどもできる．\n",
    "$x>0$を仮定し，$\\sqrt{x^2}$を簡略化してみよう．"
   ]
  },
  {
   "cell_type": "code",
   "execution_count": 15,
   "metadata": {},
   "outputs": [],
   "source": [
    "x = sympy.Symbol(\"x\")"
   ]
  },
  {
   "cell_type": "code",
   "execution_count": 16,
   "metadata": {},
   "outputs": [
    {
     "data": {
      "text/latex": [
       "$\\displaystyle \\sqrt{x^{2}}$"
      ],
      "text/plain": [
       "sqrt(x**2)"
      ]
     },
     "execution_count": 16,
     "metadata": {},
     "output_type": "execute_result"
    }
   ],
   "source": [
    "sympy.simplify(sympy.sqrt(x**2))"
   ]
  },
  {
   "cell_type": "code",
   "execution_count": 17,
   "metadata": {},
   "outputs": [],
   "source": [
    "x = sympy.Symbol(\"x\", positive = True)"
   ]
  },
  {
   "cell_type": "code",
   "execution_count": 18,
   "metadata": {},
   "outputs": [
    {
     "data": {
      "text/latex": [
       "$\\displaystyle x$"
      ],
      "text/plain": [
       "x"
      ]
     },
     "execution_count": 18,
     "metadata": {},
     "output_type": "execute_result"
    }
   ],
   "source": [
    "sympy.simplify(sympy.sqrt(x**2))"
   ]
  },
  {
   "cell_type": "markdown",
   "metadata": {},
   "source": [
    "### 方程式を解析的に解く\n",
    "以下の２次方程式を`solve()`関数を使って解いてみよう．\n",
    "$$\n",
    "a x^2 + b x + c = 0\n",
    "$$"
   ]
  },
  {
   "cell_type": "code",
   "execution_count": 19,
   "metadata": {},
   "outputs": [],
   "source": [
    "x, a, b, c = sympy.symbols(\"x, a, b, c\")"
   ]
  },
  {
   "cell_type": "code",
   "execution_count": 20,
   "metadata": {},
   "outputs": [
    {
     "data": {
      "text/plain": [
       "[(-b + sqrt(-4*a*c + b**2))/(2*a), -(b + sqrt(-4*a*c + b**2))/(2*a)]"
      ]
     },
     "execution_count": 20,
     "metadata": {},
     "output_type": "execute_result"
    }
   ],
   "source": [
    "sol = sympy.solve(a*x**2 + b*x + c, x)\n",
    "sol"
   ]
  },
  {
   "cell_type": "code",
   "execution_count": 21,
   "metadata": {},
   "outputs": [
    {
     "data": {
      "text/latex": [
       "$\\displaystyle \\frac{- b + \\sqrt{- 4 a c + b^{2}}}{2 a}$"
      ],
      "text/plain": [
       "(-b + sqrt(-4*a*c + b**2))/(2*a)"
      ]
     },
     "execution_count": 21,
     "metadata": {},
     "output_type": "execute_result"
    }
   ],
   "source": [
    "sol[0]"
   ]
  },
  {
   "cell_type": "code",
   "execution_count": 22,
   "metadata": {},
   "outputs": [
    {
     "data": {
      "text/latex": [
       "$\\displaystyle - \\frac{b + \\sqrt{- 4 a c + b^{2}}}{2 a}$"
      ],
      "text/plain": [
       "-(b + sqrt(-4*a*c + b**2))/(2*a)"
      ]
     },
     "execution_count": 22,
     "metadata": {},
     "output_type": "execute_result"
    }
   ],
   "source": [
    "sol[1]"
   ]
  },
  {
   "cell_type": "markdown",
   "metadata": {},
   "source": [
    "文字式における等号は`Eq`クラスを利用する．\n",
    "例えば，\n",
    "$$\n",
    "x^2 + x +6 = a\n",
    "$$\n",
    "を解くとすれば"
   ]
  },
  {
   "cell_type": "code",
   "execution_count": 23,
   "metadata": {},
   "outputs": [
    {
     "data": {
      "text/plain": [
       "[-sqrt(4*a - 23)/2 - 1/2, sqrt(4*a - 23)/2 - 1/2]"
      ]
     },
     "execution_count": 23,
     "metadata": {},
     "output_type": "execute_result"
    }
   ],
   "source": [
    "sympy.solve(sympy.Eq(x**2 + x + 6, a), x)"
   ]
  },
  {
   "cell_type": "markdown",
   "metadata": {},
   "source": [
    "とできる．もちろん先に移項しておき"
   ]
  },
  {
   "cell_type": "code",
   "execution_count": 24,
   "metadata": {},
   "outputs": [
    {
     "data": {
      "text/plain": [
       "[-sqrt(4*a - 23)/2 - 1/2, sqrt(4*a - 23)/2 - 1/2]"
      ]
     },
     "execution_count": 24,
     "metadata": {},
     "output_type": "execute_result"
    }
   ],
   "source": [
    "sympy.solve(x**2 + x + 6-a, x)"
   ]
  },
  {
   "cell_type": "markdown",
   "metadata": {},
   "source": [
    "としても良い．"
   ]
  },
  {
   "cell_type": "markdown",
   "metadata": {},
   "source": [
    "連立方程式も解くことができる．\n",
    "$$\n",
    "\\begin{cases}\n",
    "2 x^2 + 3 xy = a\\\\\n",
    "7x -13 y = 1\n",
    "\\end{cases}\n",
    "$$\n",
    "を解いてみよう．"
   ]
  },
  {
   "cell_type": "code",
   "execution_count": 25,
   "metadata": {},
   "outputs": [],
   "source": [
    "x, y, a = sympy.symbols(\"x, y, a\")"
   ]
  },
  {
   "cell_type": "code",
   "execution_count": 26,
   "metadata": {},
   "outputs": [
    {
     "data": {
      "text/plain": [
       "[{x: -sqrt(260*a + 9)/10 - 3/10, y: 7*sqrt(260*a + 9)/130 + 31/130},\n",
       " {x: sqrt(260*a + 9)/10 - 3/10, y: 31/130 - 7*sqrt(260*a + 9)/130}]"
      ]
     },
     "execution_count": 26,
     "metadata": {},
     "output_type": "execute_result"
    }
   ],
   "source": [
    "sol = sympy.solve([sympy.Eq(2*x**2 + 3*x*y, a), \n",
    "             sympy.Eq(7*x + 13*y, 1)], \n",
    "            [x,y],dict=True)\n",
    "sol"
   ]
  },
  {
   "cell_type": "code",
   "execution_count": 27,
   "metadata": {},
   "outputs": [
    {
     "data": {
      "text/latex": [
       "$\\displaystyle - \\frac{\\sqrt{260 a + 9}}{10} - \\frac{3}{10}$"
      ],
      "text/plain": [
       "-sqrt(260*a + 9)/10 - 3/10"
      ]
     },
     "execution_count": 27,
     "metadata": {},
     "output_type": "execute_result"
    }
   ],
   "source": [
    "sol[0][x]"
   ]
  },
  {
   "cell_type": "code",
   "execution_count": 28,
   "metadata": {},
   "outputs": [
    {
     "data": {
      "text/latex": [
       "$\\displaystyle \\frac{7 \\sqrt{260 a + 9}}{130} + \\frac{31}{130}$"
      ],
      "text/plain": [
       "7*sqrt(260*a + 9)/130 + 31/130"
      ]
     },
     "execution_count": 28,
     "metadata": {},
     "output_type": "execute_result"
    }
   ],
   "source": [
    "sol[0][y]"
   ]
  },
  {
   "cell_type": "code",
   "execution_count": 29,
   "metadata": {},
   "outputs": [
    {
     "data": {
      "text/latex": [
       "$\\displaystyle \\frac{\\sqrt{260 a + 9}}{10} - \\frac{3}{10}$"
      ],
      "text/plain": [
       "sqrt(260*a + 9)/10 - 3/10"
      ]
     },
     "execution_count": 29,
     "metadata": {},
     "output_type": "execute_result"
    }
   ],
   "source": [
    "sol[1][x]"
   ]
  },
  {
   "cell_type": "code",
   "execution_count": 30,
   "metadata": {},
   "outputs": [
    {
     "data": {
      "text/latex": [
       "$\\displaystyle \\frac{31}{130} - \\frac{7 \\sqrt{260 a + 9}}{130}$"
      ],
      "text/plain": [
       "31/130 - 7*sqrt(260*a + 9)/130"
      ]
     },
     "execution_count": 30,
     "metadata": {},
     "output_type": "execute_result"
    }
   ],
   "source": [
    "sol[1][y]"
   ]
  },
  {
   "cell_type": "markdown",
   "metadata": {},
   "source": [
    "$(x, y)$について２つの解が得られた．"
   ]
  },
  {
   "cell_type": "markdown",
   "metadata": {},
   "source": [
    "### 代入\n",
    "`symbol`のメンバ関数`subs()`を利用することで変数への代入ができる．\n",
    "ここでは\n",
    "$$\n",
    "z = x^2 + y^2\n",
    "$$\n",
    "を考えて，$x,y$に値を代入してみよう．"
   ]
  },
  {
   "cell_type": "code",
   "execution_count": 31,
   "metadata": {},
   "outputs": [
    {
     "data": {
      "text/latex": [
       "$\\displaystyle x^{2} + y^{2}$"
      ],
      "text/plain": [
       "x**2 + y**2"
      ]
     },
     "execution_count": 31,
     "metadata": {},
     "output_type": "execute_result"
    }
   ],
   "source": [
    "x, y = sympy.symbols(\"x, y\")\n",
    "z = x**2 + y**2\n",
    "z"
   ]
  },
  {
   "cell_type": "code",
   "execution_count": 32,
   "metadata": {},
   "outputs": [
    {
     "data": {
      "text/latex": [
       "$\\displaystyle 8$"
      ],
      "text/plain": [
       "8"
      ]
     },
     "execution_count": 32,
     "metadata": {},
     "output_type": "execute_result"
    }
   ],
   "source": [
    "# xとyにそれぞれ2を代入\n",
    "z.subs([[x,2], [y,2]])"
   ]
  },
  {
   "cell_type": "markdown",
   "metadata": {},
   "source": [
    "### ベクトル・行列\n",
    "SymPyではベクトルと行列は`Matrix`クラスで表現される．\n",
    "$$\n",
    "\\begin{align}\n",
    "\\mathbf{A} &= \\begin{pmatrix}\n",
    "a_{11} & a_{12} \\\\\n",
    "a_{21} & a_{22} \\\\\n",
    "\\end{pmatrix}\\\\\n",
    "\\mathbf{B} &= \\begin{pmatrix}\n",
    "b_{11} & b_{12} \\\\\n",
    "b_{21} & b_{22} \\\\\n",
    "\\end{pmatrix}\\\\\n",
    "\\mathbf{u} &= \\begin{pmatrix}\n",
    "u_{1} \\\\\n",
    "u_{2}\n",
    "\\end{pmatrix}\\\\\n",
    "\\mathbf{v} &= \\begin{pmatrix}\n",
    "v_{1} \\\\\n",
    "v_{2}\n",
    "\\end{pmatrix}\n",
    "\\end{align}\n",
    "$$\n",
    "として，いくつか計算をおこなってみよう．"
   ]
  },
  {
   "cell_type": "code",
   "execution_count": 33,
   "metadata": {},
   "outputs": [],
   "source": [
    "a11, a12, a21, a22 = sympy.symbols(\"a11,a12,a21,a22\")\n",
    "b11, b12, b21, b22 = sympy.symbols(\"b11,b12,b21,b22\")\n",
    "A = sympy.Matrix([[a11,a12],[a21,a22]])\n",
    "B = sympy.Matrix([[b11,b12],[b21,b22]])\n",
    "\n",
    "u1,u2,v1,v2 = sympy.symbols(\"u1,u2,v1,v2\")\n",
    "u = sympy.Matrix([u1,u2])\n",
    "v = sympy.Matrix([v1,v2])"
   ]
  },
  {
   "cell_type": "code",
   "execution_count": 34,
   "metadata": {},
   "outputs": [
    {
     "data": {
      "text/latex": [
       "$\\displaystyle \\left[\\begin{matrix}a_{11} & a_{12}\\\\a_{21} & a_{22}\\end{matrix}\\right]$"
      ],
      "text/plain": [
       "Matrix([\n",
       "[a11, a12],\n",
       "[a21, a22]])"
      ]
     },
     "execution_count": 34,
     "metadata": {},
     "output_type": "execute_result"
    }
   ],
   "source": [
    "A"
   ]
  },
  {
   "cell_type": "code",
   "execution_count": 35,
   "metadata": {},
   "outputs": [
    {
     "data": {
      "text/latex": [
       "$\\displaystyle \\left[\\begin{matrix}b_{11} & b_{12}\\\\b_{21} & b_{22}\\end{matrix}\\right]$"
      ],
      "text/plain": [
       "Matrix([\n",
       "[b11, b12],\n",
       "[b21, b22]])"
      ]
     },
     "execution_count": 35,
     "metadata": {},
     "output_type": "execute_result"
    }
   ],
   "source": [
    "B"
   ]
  },
  {
   "cell_type": "code",
   "execution_count": 36,
   "metadata": {},
   "outputs": [
    {
     "data": {
      "text/latex": [
       "$\\displaystyle \\left[\\begin{matrix}u_{1}\\\\u_{2}\\end{matrix}\\right]$"
      ],
      "text/plain": [
       "Matrix([\n",
       "[u1],\n",
       "[u2]])"
      ]
     },
     "execution_count": 36,
     "metadata": {},
     "output_type": "execute_result"
    }
   ],
   "source": [
    "u"
   ]
  },
  {
   "cell_type": "code",
   "execution_count": 37,
   "metadata": {},
   "outputs": [
    {
     "data": {
      "text/latex": [
       "$\\displaystyle \\left[\\begin{matrix}v_{1}\\\\v_{2}\\end{matrix}\\right]$"
      ],
      "text/plain": [
       "Matrix([\n",
       "[v1],\n",
       "[v2]])"
      ]
     },
     "execution_count": 37,
     "metadata": {},
     "output_type": "execute_result"
    }
   ],
   "source": [
    "v"
   ]
  },
  {
   "cell_type": "markdown",
   "metadata": {},
   "source": [
    "#### 基本演算\n",
    "* ベクトル同士の足し算，引き算，内積\n",
    "* 行列同士の足し算，引き算，掛け算\n",
    "* 行列とベクトルの掛け算\n",
    "\n",
    "をやってみよう．"
   ]
  },
  {
   "cell_type": "code",
   "execution_count": 38,
   "metadata": {},
   "outputs": [
    {
     "data": {
      "text/latex": [
       "$\\displaystyle \\left[\\begin{matrix}u_{1} + v_{1}\\\\u_{2} + v_{2}\\end{matrix}\\right]$"
      ],
      "text/plain": [
       "Matrix([\n",
       "[u1 + v1],\n",
       "[u2 + v2]])"
      ]
     },
     "metadata": {},
     "output_type": "display_data"
    },
    {
     "data": {
      "text/latex": [
       "$\\displaystyle \\left[\\begin{matrix}u_{1} - v_{1}\\\\u_{2} - v_{2}\\end{matrix}\\right]$"
      ],
      "text/plain": [
       "Matrix([\n",
       "[u1 - v1],\n",
       "[u2 - v2]])"
      ]
     },
     "metadata": {},
     "output_type": "display_data"
    },
    {
     "data": {
      "text/latex": [
       "$\\displaystyle u_{1} v_{1} + u_{2} v_{2}$"
      ],
      "text/plain": [
       "u1*v1 + u2*v2"
      ]
     },
     "metadata": {},
     "output_type": "display_data"
    },
    {
     "data": {
      "text/latex": [
       "$\\displaystyle u_{1} v_{1} + u_{2} v_{2}$"
      ],
      "text/plain": [
       "u1*v1 + u2*v2"
      ]
     },
     "metadata": {},
     "output_type": "display_data"
    }
   ],
   "source": [
    "# 足し算\n",
    "display(u+v)\n",
    "# 引き算\n",
    "display(u-v)\n",
    "# 内積（順序に依らない）\n",
    "display(u.dot(v))\n",
    "display(v.dot(u))"
   ]
  },
  {
   "cell_type": "code",
   "execution_count": 39,
   "metadata": {},
   "outputs": [
    {
     "data": {
      "text/latex": [
       "$\\displaystyle \\left[\\begin{matrix}a_{11} + b_{11} & a_{12} + b_{12}\\\\a_{21} + b_{21} & a_{22} + b_{22}\\end{matrix}\\right]$"
      ],
      "text/plain": [
       "Matrix([\n",
       "[a11 + b11, a12 + b12],\n",
       "[a21 + b21, a22 + b22]])"
      ]
     },
     "metadata": {},
     "output_type": "display_data"
    },
    {
     "data": {
      "text/latex": [
       "$\\displaystyle \\left[\\begin{matrix}a_{11} - b_{11} & a_{12} - b_{12}\\\\a_{21} - b_{21} & a_{22} - b_{22}\\end{matrix}\\right]$"
      ],
      "text/plain": [
       "Matrix([\n",
       "[a11 - b11, a12 - b12],\n",
       "[a21 - b21, a22 - b22]])"
      ]
     },
     "metadata": {},
     "output_type": "display_data"
    },
    {
     "data": {
      "text/latex": [
       "$\\displaystyle \\left[\\begin{matrix}a_{11} b_{11} + a_{12} b_{21} & a_{11} b_{12} + a_{12} b_{22}\\\\a_{21} b_{11} + a_{22} b_{21} & a_{21} b_{12} + a_{22} b_{22}\\end{matrix}\\right]$"
      ],
      "text/plain": [
       "Matrix([\n",
       "[a11*b11 + a12*b21, a11*b12 + a12*b22],\n",
       "[a21*b11 + a22*b21, a21*b12 + a22*b22]])"
      ]
     },
     "metadata": {},
     "output_type": "display_data"
    },
    {
     "data": {
      "text/latex": [
       "$\\displaystyle \\left[\\begin{matrix}a_{11} b_{11} + a_{21} b_{12} & a_{12} b_{11} + a_{22} b_{12}\\\\a_{11} b_{21} + a_{21} b_{22} & a_{12} b_{21} + a_{22} b_{22}\\end{matrix}\\right]$"
      ],
      "text/plain": [
       "Matrix([\n",
       "[a11*b11 + a21*b12, a12*b11 + a22*b12],\n",
       "[a11*b21 + a21*b22, a12*b21 + a22*b22]])"
      ]
     },
     "metadata": {},
     "output_type": "display_data"
    }
   ],
   "source": [
    "# 足し算\n",
    "display(A+B)\n",
    "# 引き算\n",
    "display(A-B)\n",
    "# 掛け算（順序に依存する）\n",
    "display(A*B)\n",
    "display(B*A)"
   ]
  },
  {
   "cell_type": "code",
   "execution_count": 40,
   "metadata": {},
   "outputs": [
    {
     "data": {
      "text/latex": [
       "$\\displaystyle \\left[\\begin{matrix}a_{11} u_{1} + a_{12} u_{2}\\\\a_{21} u_{1} + a_{22} u_{2}\\end{matrix}\\right]$"
      ],
      "text/plain": [
       "Matrix([\n",
       "[a11*u1 + a12*u2],\n",
       "[a21*u1 + a22*u2]])"
      ]
     },
     "execution_count": 40,
     "metadata": {},
     "output_type": "execute_result"
    }
   ],
   "source": [
    "# 行列とベクトルの掛け算\n",
    "A*u"
   ]
  },
  {
   "cell_type": "markdown",
   "metadata": {},
   "source": [
    "#### 転置行列・逆行列・行列式\n",
    "行列`Matrix`クラスのメンバ関数`transpose()`により転置行列が，`inv()`により逆行列，`det()`により行列式がそれぞれ計算できる．"
   ]
  },
  {
   "cell_type": "code",
   "execution_count": 41,
   "metadata": {},
   "outputs": [
    {
     "data": {
      "text/latex": [
       "$\\displaystyle \\left[\\begin{matrix}a_{11} & a_{21}\\\\a_{12} & a_{22}\\end{matrix}\\right]$"
      ],
      "text/plain": [
       "Matrix([\n",
       "[a11, a21],\n",
       "[a12, a22]])"
      ]
     },
     "execution_count": 41,
     "metadata": {},
     "output_type": "execute_result"
    }
   ],
   "source": [
    "A.transpose()"
   ]
  },
  {
   "cell_type": "code",
   "execution_count": 42,
   "metadata": {},
   "outputs": [
    {
     "data": {
      "text/latex": [
       "$\\displaystyle \\left[\\begin{matrix}\\frac{a_{22}}{a_{11} a_{22} - a_{12} a_{21}} & - \\frac{a_{12}}{a_{11} a_{22} - a_{12} a_{21}}\\\\- \\frac{a_{21}}{a_{11} a_{22} - a_{12} a_{21}} & \\frac{a_{11}}{a_{11} a_{22} - a_{12} a_{21}}\\end{matrix}\\right]$"
      ],
      "text/plain": [
       "Matrix([\n",
       "[ a22/(a11*a22 - a12*a21), -a12/(a11*a22 - a12*a21)],\n",
       "[-a21/(a11*a22 - a12*a21),  a11/(a11*a22 - a12*a21)]])"
      ]
     },
     "execution_count": 42,
     "metadata": {},
     "output_type": "execute_result"
    }
   ],
   "source": [
    "A.inv()"
   ]
  },
  {
   "cell_type": "code",
   "execution_count": 43,
   "metadata": {},
   "outputs": [
    {
     "data": {
      "text/latex": [
       "$\\displaystyle a_{11} a_{22} - a_{12} a_{21}$"
      ],
      "text/plain": [
       "a11*a22 - a12*a21"
      ]
     },
     "execution_count": 43,
     "metadata": {},
     "output_type": "execute_result"
    }
   ],
   "source": [
    "A.det()"
   ]
  },
  {
   "cell_type": "markdown",
   "metadata": {},
   "source": [
    "#### ヤコビ行列\n",
    "さらに，`jacobian()`でヤコビ行列が計算できる．\n",
    "以下の系を例にヤコビ行列を計算してみよう．\n",
    "$$\n",
    "\\mathbf{f}= \\begin{pmatrix}\n",
    "2x+y + x^3\\\\\n",
    "y^2 - xy\n",
    "\\end{pmatrix}\\\\\n",
    "\\mathbf{x} = \\begin{pmatrix}\n",
    "x\\\\\n",
    "y\n",
    "\\end{pmatrix}\n",
    "$$\n",
    "\n",
    "すなわち．ヤコビ行列$\\mathbf{J}$は\n",
    "$$\n",
    "\\mathbf{J} = \\frac{d \\mathbf{f}}{d \\mathbf{x}}\n",
    "$$\n",
    "を導出する．"
   ]
  },
  {
   "cell_type": "code",
   "execution_count": 44,
   "metadata": {},
   "outputs": [],
   "source": [
    "x,y = sympy.symbols(\"x,y\")\n",
    "F = sympy.Matrix([2*x*y + x**3,y**2-x*y])\n",
    "X = sympy.Matrix([x,y])"
   ]
  },
  {
   "cell_type": "code",
   "execution_count": 45,
   "metadata": {},
   "outputs": [
    {
     "data": {
      "text/latex": [
       "$\\displaystyle \\left[\\begin{matrix}3 x^{2} + 2 y & 2 x\\\\- y & - x + 2 y\\end{matrix}\\right]$"
      ],
      "text/plain": [
       "Matrix([\n",
       "[3*x**2 + 2*y,      2*x],\n",
       "[          -y, -x + 2*y]])"
      ]
     },
     "metadata": {},
     "output_type": "display_data"
    }
   ],
   "source": [
    "J = F.jacobian(X)\n",
    "display(J)"
   ]
  },
  {
   "cell_type": "markdown",
   "metadata": {},
   "source": [
    "## ロトカ-ボルテラ モデル\n",
    "\n",
    "それでは被食-捕食系を対象に解析を進めよう．\n",
    "興味のある人は競争系や共生系についても解析してみよう．\n",
    "\n",
    "### 被食-捕食系\n",
    "$$\n",
    "\\begin{cases}\n",
    "\\frac{dx}{dt} = a x - bxy \\ \\cdots \\text{被食者}\\\\\n",
    "\\frac{dy}{dt} = cxy -dy \\ \\cdots \\text{捕食者}\n",
    "\\end{cases}\n",
    "$$\n",
    "ただし，$a, b, c, d > 0$．"
   ]
  },
  {
   "cell_type": "markdown",
   "metadata": {},
   "source": [
    "### 平衡点"
   ]
  },
  {
   "cell_type": "code",
   "execution_count": 46,
   "metadata": {},
   "outputs": [],
   "source": [
    "x,y = sympy.symbols(\"x y\")\n",
    "t = sympy.symbols(\"t\")\n",
    "a, b, c, d = sympy.symbols(\"a, b, c, d\")"
   ]
  },
  {
   "cell_type": "code",
   "execution_count": 47,
   "metadata": {},
   "outputs": [
    {
     "data": {
      "text/plain": [
       "[(0, 0), (d/c, a/b)]"
      ]
     },
     "execution_count": 47,
     "metadata": {},
     "output_type": "execute_result"
    }
   ],
   "source": [
    "sympy.solve(\n",
    "    [\n",
    "        sympy.Eq(a*x-b*x*y,0),\n",
    "        sympy.Eq(c*x*y-d*y,0)\n",
    "    ],[x,y])"
   ]
  },
  {
   "cell_type": "markdown",
   "metadata": {},
   "source": [
    "２つの平衡点\n",
    "1. $(x^*_1, y^*_1) = (0,0)$\n",
    "1. $(x^*_2, y^*_2) = \\left(\\frac{d}{c},\\frac{a}{b}\\right)$\n",
    "\n",
    "が見つかった．"
   ]
  },
  {
   "cell_type": "markdown",
   "metadata": {
    "toc-hr-collapsed": false
   },
   "source": [
    "### 局所安定性\n",
    "それぞれの平衡点について局所安定性を調べよう．\n",
    "まずヤコビ行列は"
   ]
  },
  {
   "cell_type": "code",
   "execution_count": 48,
   "metadata": {},
   "outputs": [
    {
     "data": {
      "text/latex": [
       "$\\displaystyle \\left[\\begin{matrix}a - b y & - b x\\\\c y & c x - d\\end{matrix}\\right]$"
      ],
      "text/plain": [
       "Matrix([\n",
       "[a - b*y,    -b*x],\n",
       "[    c*y, c*x - d]])"
      ]
     },
     "execution_count": 48,
     "metadata": {},
     "output_type": "execute_result"
    }
   ],
   "source": [
    "F = sympy.Matrix([a*x-b*x*y,c*x*y-d*y])\n",
    "X = sympy.Matrix([x,y])\n",
    "J = F.jacobian(X)\n",
    "J"
   ]
  },
  {
   "cell_type": "markdown",
   "metadata": {},
   "source": [
    "#### 1の場合\n",
    "$(x^*_1, y^*_1) = (0,0)$のとき"
   ]
  },
  {
   "cell_type": "code",
   "execution_count": 49,
   "metadata": {},
   "outputs": [
    {
     "data": {
      "text/latex": [
       "$\\displaystyle \\left[\\begin{matrix}a & 0\\\\0 & - d\\end{matrix}\\right]$"
      ],
      "text/plain": [
       "Matrix([\n",
       "[a,  0],\n",
       "[0, -d]])"
      ]
     },
     "execution_count": 49,
     "metadata": {},
     "output_type": "execute_result"
    }
   ],
   "source": [
    "J1 = J.subs([[x,0],[y,0]])\n",
    "J1"
   ]
  },
  {
   "cell_type": "markdown",
   "metadata": {},
   "source": [
    "このヤコビ行列の最大固有値を調べれば良い．すなわち，\n",
    "$$\n",
    "|\\mathbf{J}_1 - \\lambda \\mathbf{I}| = 0\n",
    "$$\n",
    "を$\\lambda$について解き，一番大きな$\\lambda$を調べる．"
   ]
  },
  {
   "cell_type": "code",
   "execution_count": 50,
   "metadata": {},
   "outputs": [],
   "source": [
    "λ = sympy.symbols(\"λ\")\n",
    "I = sympy.Matrix([[1,0],[0,1]])"
   ]
  },
  {
   "cell_type": "code",
   "execution_count": 51,
   "metadata": {},
   "outputs": [
    {
     "data": {
      "text/latex": [
       "$\\displaystyle \\left(a - λ\\right) \\left(- d - λ\\right)$"
      ],
      "text/plain": [
       "(a - λ)*(-d - λ)"
      ]
     },
     "execution_count": 51,
     "metadata": {},
     "output_type": "execute_result"
    }
   ],
   "source": [
    "(J1 - λ*I).det()"
   ]
  },
  {
   "cell_type": "code",
   "execution_count": 52,
   "metadata": {},
   "outputs": [
    {
     "data": {
      "text/plain": [
       "[a, -d]"
      ]
     },
     "execution_count": 52,
     "metadata": {},
     "output_type": "execute_result"
    }
   ],
   "source": [
    "sympy.solve(\n",
    "    sympy.Eq((J1 - λ*I).det(), 0),\n",
    "    λ)"
   ]
  },
  {
   "cell_type": "markdown",
   "metadata": {},
   "source": [
    "よって，固有値$\\lambda_1 = a, \\lambda_2 = -d$が得られた．\n",
    "\n",
    "$a,b,c,d > 0$なので最大固有値は$a>0$となり，この平衡点は不安定であることがわかる．"
   ]
  },
  {
   "cell_type": "markdown",
   "metadata": {
    "toc-hr-collapsed": true
   },
   "source": [
    "#### 2の場合\n",
    "$(x^*_2, y^*_2) = \\left(\\frac{d}{c},\\frac{a}{b}\\right)$のとき"
   ]
  },
  {
   "cell_type": "code",
   "execution_count": 53,
   "metadata": {},
   "outputs": [
    {
     "data": {
      "text/latex": [
       "$\\displaystyle \\left[\\begin{matrix}0 & - \\frac{b d}{c}\\\\\\frac{a c}{b} & 0\\end{matrix}\\right]$"
      ],
      "text/plain": [
       "Matrix([\n",
       "[    0, -b*d/c],\n",
       "[a*c/b,      0]])"
      ]
     },
     "execution_count": 53,
     "metadata": {},
     "output_type": "execute_result"
    }
   ],
   "source": [
    "J2 = J.subs([[x,d/c],[y,a/b]])\n",
    "J2"
   ]
  },
  {
   "cell_type": "markdown",
   "metadata": {},
   "source": [
    "先と同様に最大固有値を調べる．"
   ]
  },
  {
   "cell_type": "code",
   "execution_count": 54,
   "metadata": {},
   "outputs": [
    {
     "data": {
      "text/plain": [
       "[-sqrt(-a*d), sqrt(-a*d)]"
      ]
     },
     "execution_count": 54,
     "metadata": {},
     "output_type": "execute_result"
    }
   ],
   "source": [
    "sympy.solve(\n",
    "    sympy.Eq((J2 - λ*I).det(), 0),\n",
    "    λ)"
   ]
  },
  {
   "cell_type": "markdown",
   "metadata": {},
   "source": [
    "よって，固有値$\\lambda_{1,2} = \\pm \\sqrt{ad}i$が得られた．\n",
    "これらの実部は$0$なので中立安定となる．また，虚部が存在するため平衡点周りで回転する軌道を取ることがわかる．"
   ]
  },
  {
   "cell_type": "markdown",
   "metadata": {},
   "source": [
    "### 相空間におけるベクトル場の可視化\n",
    "相空間におけるベクトル場を可視化すると以下のようになる．"
   ]
  },
  {
   "cell_type": "code",
   "execution_count": 55,
   "metadata": {},
   "outputs": [],
   "source": [
    "%matplotlib inline\n",
    "import numpy as np\n",
    "import matplotlib.pyplot as plt"
   ]
  },
  {
   "cell_type": "code",
   "execution_count": 56,
   "metadata": {},
   "outputs": [],
   "source": [
    "# 流線プロットによるベクトル場の可視化\n",
    "def plotVecField(a,b,c,d,rangeX,rangeY,meshX,meshY, sol = None):\n",
    "    U = a*meshX-b*meshX*meshY\n",
    "    V = c*meshX*meshY-d*meshY\n",
    "\n",
    "    M = np.sqrt(U**2 + V**2)\n",
    "\n",
    "    # アイソクライン\n",
    "    lineX1 = np.linspace(rangeX[0],rangeX[1],100)\n",
    "    lineX2 = np.array([d/c for i in range(100)])\n",
    "    isocline1 = np.array([a/b for i in range(100)])\n",
    "    isocline2 = np.linspace(rangeY[0],rangeY[1],100)\n",
    "\n",
    "    # 作図\n",
    "    fig, axes = plt.subplots(figsize=(8,8))\n",
    "    strm = plt.streamplot(meshX, meshY, U, V, color=M,density=(0.8,0.8), linewidth=1,\n",
    "                          arrowsize=2, cmap='gist_rainbow_r')\n",
    "    fig.colorbar(strm.lines)\n",
    "    axes.set_aspect(\"equal\")\n",
    "    axes.set_title('Predator-Prey')\n",
    "    plt.plot(lineX1,isocline1, \"b--\",linewidth=3)\n",
    "    plt.plot(lineX2,isocline2, \"r--\",linewidth=3)\n",
    "    plt.plot(0,0, \"ko\", d/c, a/b ,\"ko\", markersize = 8)\n",
    "    plt.xlim(rangeX[0]-0.05,rangeX[1])\n",
    "    plt.ylim(rangeY[0]-0.05,rangeY[1])\n",
    "    plt.xlabel(\"Prey\")\n",
    "    plt.ylabel(\"Predator\")\n",
    "    \n",
    "    if sol is not None:\n",
    "        plt.plot(sol[0],sol[1], \".\", linewidth=2)"
   ]
  },
  {
   "cell_type": "code",
   "execution_count": 57,
   "metadata": {},
   "outputs": [
    {
     "data": {
      "image/png": "[encoded data removed]",
      "text/plain": [
       "<Figure size 576x576 with 2 Axes>"
      ]
     },
     "metadata": {
      "needs_background": "light"
     },
     "output_type": "display_data"
    }
   ],
   "source": [
    "rangeX = (0,1.5)\n",
    "rangeY = (0,1.5)\n",
    "meshX, meshY = np.meshgrid(\n",
    "    np.arange(rangeX[0], rangeX[1], .01), \n",
    "    np.arange(rangeY[0], rangeY[1], .01))\n",
    "\n",
    "a = 1.2\n",
    "b = 1.6\n",
    "c = 1.9\n",
    "d = 0.9\n",
    "\n",
    "U = a*meshX-b*meshX*meshY\n",
    "V = c*meshX*meshY-d*meshY\n",
    "\n",
    "plotVecField(a,b,c,d,rangeX,rangeY,meshX,meshY, sol = None)"
   ]
  },
  {
   "cell_type": "code",
   "execution_count": 58,
   "metadata": {},
   "outputs": [],
   "source": [
    "# 被食-捕食系のダイナミクス\n",
    "def simLVModel(a,b,c,d,x0,y0,dt,tEnd):\n",
    "    # 初期値\n",
    "    x = x0\n",
    "    y = y0\n",
    "    t = 0.0\n",
    "\n",
    "    # 時間の設定\n",
    "    iEnd = int(tEnd/dt)+1\n",
    "\n",
    "    xList = [x]\n",
    "    yList = [y]\n",
    "    tList = [t]\n",
    "    for i in range(iEnd):\n",
    "        t = dt*i\n",
    "        xx = x + dt*(a - b*y)*x\n",
    "        yy = y + dt*(c*x - d)*y\n",
    "        x = xx\n",
    "        y = yy\n",
    "        tList.append(t)\n",
    "        xList.append(x)\n",
    "        yList.append(y)\n",
    "    return (tList, xList, yList)"
   ]
  },
  {
   "cell_type": "code",
   "execution_count": 59,
   "metadata": {},
   "outputs": [],
   "source": [
    "# シミュレーション\n",
    "\n",
    "# モデルのパラメータ\n",
    "a = 1.2\n",
    "b = 1.6\n",
    "c = 1.9\n",
    "d = 0.9\n",
    "\n",
    "x0 = 0.38\n",
    "y0 = 0.32\n",
    "dt = 0.0001\n",
    "tEnd=10\n",
    "\n",
    "tList, xList, yList = simLVModel(a,b,c,d,x0,y0,dt,tEnd)"
   ]
  },
  {
   "cell_type": "code",
   "execution_count": 60,
   "metadata": {},
   "outputs": [
    {
     "data": {
      "text/plain": [
       "<matplotlib.legend.Legend at 0x11d8e9c18>"
      ]
     },
     "execution_count": 60,
     "metadata": {},
     "output_type": "execute_result"
    },
    {
     "data": {
      "image/png": "[encoded data removed]",
      "text/plain": [
       "<Figure size 432x288 with 1 Axes>"
      ]
     },
     "metadata": {
      "needs_background": "light"
     },
     "output_type": "display_data"
    }
   ],
   "source": [
    "# 時間発展のプロット\n",
    "plt.plot(tList, xList)\n",
    "plt.plot(tList, yList)\n",
    "plt.legend([\"Prey\", \"Predator\"],loc='upper right')"
   ]
  },
  {
   "cell_type": "code",
   "execution_count": 61,
   "metadata": {},
   "outputs": [
    {
     "data": {
      "text/plain": [
       "Text(0, 0.5, 'Predator')"
      ]
     },
     "execution_count": 61,
     "metadata": {},
     "output_type": "execute_result"
    },
    {
     "data": {
      "image/png": "[encoded data removed]",
      "text/plain": [
       "<Figure size 432x288 with 1 Axes>"
      ]
     },
     "metadata": {
      "needs_background": "light"
     },
     "output_type": "display_data"
    }
   ],
   "source": [
    "# 相図\n",
    "plt.plot(xList,yList)\n",
    "plt.xlabel(\"Prey\")\n",
    "plt.ylabel(\"Predator\")"
   ]
  },
  {
   "cell_type": "code",
   "execution_count": 62,
   "metadata": {},
   "outputs": [
    {
     "data": {
      "image/png": "[encoded data removed]",
      "text/plain": [
       "<Figure size 576x576 with 2 Axes>"
      ]
     },
     "metadata": {
      "needs_background": "light"
     },
     "output_type": "display_data"
    }
   ],
   "source": [
    "rangeX = (0,1.5)\n",
    "rangeY = (0,1.5)\n",
    "meshX, meshY = np.meshgrid(\n",
    "    np.arange(rangeX[0], rangeX[1], .01), \n",
    "    np.arange(rangeY[0], rangeY[1], .01))\n",
    "\n",
    "a = 1.2\n",
    "b = 1.6\n",
    "c = 1.9\n",
    "d = 0.9\n",
    "\n",
    "U = a*meshX-b*meshX*meshY\n",
    "V = c*meshX*meshY-d*meshY\n",
    "\n",
    "x0 = 0.38\n",
    "y0 = 0.32\n",
    "dt = 0.0001\n",
    "tEnd=10\n",
    "\n",
    "tList, xList, yList = simLVModel(a,b,c,d,x0,y0,dt,tEnd)\n",
    "\n",
    "plotVecField(a,b,c,d,rangeX,rangeY,meshX,meshY, sol = [xList,yList])"
   ]
  },
  {
   "cell_type": "code",
   "execution_count": null,
   "metadata": {},
   "outputs": [],
   "source": []
  }
 ],
 "metadata": {
  "kernelspec": {
   "display_name": "Python 3",
   "language": "python",
   "name": "python3"
  },
  "language_info": {
   "codemirror_mode": {
    "name": "ipython",
    "version": 3
   },
   "file_extension": ".py",
   "mimetype": "text/x-python",
   "name": "python",
   "nbconvert_exporter": "python",
   "pygments_lexer": "ipython3",
   "version": "3.7.3"
  }
 },
 "nbformat": 4,
 "nbformat_minor": 2
}
